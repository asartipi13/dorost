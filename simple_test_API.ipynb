{
 "cells": [
  {
   "cell_type": "code",
   "execution_count": 1,
   "metadata": {},
   "outputs": [
    {
     "name": "stdout",
     "output_type": "stream",
     "text": [
      "{'score': [0.9914149641990662, 0.9913501739501953, 0.9908083081245422, 0.9805501103401184, 0.9693819880485535, 0.9713084101676941, 0.9828951358795166, 0.9642082452774048, 0.8960028290748596], 'pred_id': [15, 15, 15, 13, 14, 17, 16, 2, 0], 'pred_name': ['Java Developer', 'Java Developer', 'Java Developer', 'Hadoop', 'Health and fitness', 'Network Security Engineer', 'Mechanical Engineer', 'Automation Testing', 'Advocate']}\n"
     ]
    }
   ],
   "source": [
    "import requests\n",
    "\n",
    "url = \"http://localhost:8000/resume/\"\n",
    "\n",
    "with open(\"test_df.csv\", \"rb\") as file:\n",
    "    response = requests.post(url, files={\"file\": file})\n",
    "\n",
    "print(response.json())"
   ]
  }
 ],
 "metadata": {
  "kernelspec": {
   "display_name": "Python 3",
   "language": "python",
   "name": "python3"
  },
  "language_info": {
   "codemirror_mode": {
    "name": "ipython",
    "version": 3
   },
   "file_extension": ".py",
   "mimetype": "text/x-python",
   "name": "python",
   "nbconvert_exporter": "python",
   "pygments_lexer": "ipython3",
   "version": "3.9.4"
  },
  "orig_nbformat": 4
 },
 "nbformat": 4,
 "nbformat_minor": 2
}
